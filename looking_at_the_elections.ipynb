{
 "cells": [
  {
   "cell_type": "code",
   "execution_count": 2,
   "metadata": {
    "ExecuteTime": {
     "end_time": "2018-07-02T12:19:16.406613Z",
     "start_time": "2018-07-02T12:19:14.886105Z"
    }
   },
   "outputs": [],
   "source": [
    "import json\n",
    "import pandas as pd\n",
    "import ast\n",
    "import datetime"
   ]
  },
  {
   "cell_type": "code",
   "execution_count": 251,
   "metadata": {
    "ExecuteTime": {
     "end_time": "2018-07-03T14:49:42.760387Z",
     "start_time": "2018-07-03T14:49:42.751626Z"
    },
    "code_folding": [
     0,
     3,
     10,
     27,
     30
    ]
   },
   "outputs": [],
   "source": [
    "def convert_unixtime(utime):\n",
    "    return (datetime.datetime.fromtimestamp(int(utime)).strftime('%d-%m'))\n",
    "\n",
    "def convert_country_code(code):\n",
    "    mapping = {\"CO\":\"Colombia\", \"BR\": \"Brazil\", \"VE\": \"Venezuela\", \"PE\": \"Peru\", \"UY\": \"Uruguay\", \n",
    "               \"PY\": \"Paraguay\", \"PA\": \"Panama\", \"CL\": \"Chile\", \"EC\":\"Ecuador\", \"AR\": \"Argentina\",\n",
    "               \"CR\": \"Costa Rica\", \"GY\": \"Guyana\", \"MX\": \"Mexico\", \"US\": \"United States\",  \n",
    "              }\n",
    "    return mapping[code]\n",
    "\n",
    "def cut(df, col, values, savedcols= ['Location', 'dau_audience', 'mau_audience']):\n",
    "    df_slice = {}\n",
    "    \n",
    "    for i, v in enumerate(values):\n",
    "        df_slice[i] = df[df[col] == v][savedcols]\n",
    "    \n",
    "    merge = pd.merge(df_slice[0], df_slice[1], on=[\"Location\"], suffixes=(\"_%s\" % (values[0]), \"_%s\" % (values[1])))\n",
    "    for i in range(2, len(values)):\n",
    "        #print(\"Adding suffix for:\" + values[i])\n",
    "        merge = pd.merge(merge, df_slice[i], on=[\"Location\"], suffixes=(\"\", \"_%s\" % (values[i])))\n",
    "        \n",
    "    if len(values) > 2:\n",
    "        # Fix information for the second group.\n",
    "        merge[\"audience_%s\" % (values[2])] = merge[\"audience\"]\n",
    "        del merge[\"audience\"]\n",
    "    return merge   \n",
    "\n",
    "def copy_rename(df, oldname, newname):\n",
    "    return df.rename(columns={oldname: newname}).copy() \n",
    "\n",
    "def get_slice(dfin, col, values, frequency=\"mau\"):\n",
    "    dfout = copy_rename(dfin, '%s_audience' % (frequency), \"audience\")\n",
    "    dfout = cut(dfout, col, values, savedcols=['Location', 'audience'])\n",
    "    dfout[\"Frequency\"] = \"Daily\" if frequency == \"dau\" else \"Monthly\"\n",
    "    return dfout\n",
    "\n",
    "def calculate_percentages(df, cols, prefix):\n",
    "    totals = df.sum(axis=1)\n",
    "    for col in cols:\n",
    "        df[prefix + \"audience_\" + col] = df[\"audience_\" + col] * 100. / totals\n",
    "        df[prefix + \"audience_\" + col] = df[\"audience_\" + col] * 100. / totals\n"
   ]
  },
  {
   "cell_type": "code",
   "execution_count": 127,
   "metadata": {
    "ExecuteTime": {
     "end_time": "2018-07-03T09:45:12.613171Z",
     "start_time": "2018-07-03T09:45:10.792570Z"
    }
   },
   "outputs": [],
   "source": [
    "#infile = \"collections/dataframe_collected_finished_1527597936.csv.gz\" # From 29 May\n",
    "#infile = \"collections/dataframe_collected_finished_1528531844.csv.gz\" # From 09 Jun\n",
    "infile = \"collections/dataframe_collected_finished_1529526715.csv.gz\" # From 20 Jun\n",
    "\n",
    "df = pd.read_csv(infile)\n",
    "#df[\"CollectionDay\"] = df[\"timestamp\"].apply(lambda x: convert_unixtime(x))\n",
    "#print(\"Collection made in %s\" % (df[\"CollectionDay\"].head()[0]))"
   ]
  },
  {
   "cell_type": "code",
   "execution_count": 128,
   "metadata": {
    "ExecuteTime": {
     "end_time": "2018-07-03T09:45:56.193390Z",
     "start_time": "2018-07-03T09:45:13.858359Z"
    },
    "code_folding": [
     0,
     10,
     22,
     31,
     46,
     75
    ],
    "run_control": {
     "marked": true
    }
   },
   "outputs": [
    {
     "name": "stdout",
     "output_type": "stream",
     "text": [
      "Removing redundant cols\n",
      "All Done!\n"
     ]
    }
   ],
   "source": [
    "def extract_relationship(d):\n",
    "    if 1 in d:\n",
    "        return \"single\"\n",
    "    elif 2 in d:\n",
    "        return \"dating\"\n",
    "    elif 3 in d:\n",
    "        return \"married\"\n",
    "    else:\n",
    "        return None\n",
    "\n",
    "def extract_education(d):\n",
    "    if d == [3, 7, 8, 9, 11]:\n",
    "        return \"graduated\"\n",
    "    elif d == [1, 12, 13]:\n",
    "        return \"no_degree\"\n",
    "    elif d == [2, 4, 5, 6, 10]:\n",
    "        return \"high_school\"\n",
    "    elif d == [1, 2, 3, 4, 5, 6, 7, 8, 9, 10, 11, 12, 13]:\n",
    "        return \"all\"\n",
    "    else:\n",
    "        return None\n",
    "\n",
    "def extract_group(d):\n",
    "    id = d[0][\"id\"]\n",
    "    if id == 6026404871583:\n",
    "        return \"Expats (Venezuela)\"\n",
    "    elif id == 6015559470583:\n",
    "        return \"Ex-pats (All)\"\n",
    "    else:\n",
    "        return \"All\"\n",
    "\n",
    "def agebuckets(minage, maxage):\n",
    "    if minage == 13 and (maxage is None or np.isnan(maxage)):\n",
    "        return \"all\"\n",
    "    elif minage == 13 and maxage == 18:\n",
    "        return \"13-18\"\n",
    "    elif minage == 19 and maxage == 30:\n",
    "        return \"19-30\"\n",
    "    elif minage == 31 and maxage == 45:\n",
    "        return \"31-45\"\n",
    "    elif minage == 46 and maxage == 65:\n",
    "        return \"46-65\"\n",
    "    elif minage == 65 and (maxage is None or np.isnan(maxage)):\n",
    "        return \"65+\"\n",
    "    return \"undefined\"\n",
    "    \n",
    "def expand(row):\n",
    "    place = None\n",
    "    loc_dimension = None\n",
    "    if \"regions\" in row[\"geo_locations\"]:\n",
    "        place = \"%s, %s\" % (row[\"geo_locations\"][\"regions\"][0][\"name\"], convert_country_code(row[\"geo_locations\"][\"regions\"][0][\"country_code\"]))\n",
    "        loc_dimension = \"State\"\n",
    "    elif \"countries\" in row[\"geo_locations\"]:\n",
    "        place = convert_country_code(row[\"geo_locations\"][\"countries\"][0])\n",
    "        loc_dimension = \"Country\"\n",
    "    elif \"cities\" in row[\"geo_locations\"]:\n",
    "        place = \"%s, %s, %s\" % (row[\"geo_locations\"][\"cities\"][0][\"name\"], row[\"geo_locations\"][\"cities\"][0][\"region\"], convert_country_code(row[\"geo_locations\"][\"cities\"][0][\"country\"]))\n",
    "        loc_dimension = \"City\"\n",
    "    \n",
    "    loctype = \"_\".join(row[\"geo_locations\"][\"location_types\"])\n",
    "\n",
    "    relationship, education, group = None, None, None\n",
    "    for dimension in row[\"flexible_spec\"]:\n",
    "        if \"relationship_statuses\" in dimension:\n",
    "            relationship = extract_relationship(dimension[\"relationship_statuses\"])\n",
    "        elif \"education_statuses\" in dimension:\n",
    "            education = extract_education(dimension[\"education_statuses\"])\n",
    "        elif \"behaviors\" in dimension:\n",
    "            group = extract_group(dimension[\"behaviors\"])\n",
    "    \n",
    "    gender = row[\"genders\"][0]\n",
    "    gender = \"both\" if gender == 0 else \"man\" if gender == 1 else \"woman\"\n",
    "    \n",
    "    return row[\"age_min\"], row[\"age_max\"], place, loc_dimension, loctype, gender, relationship, education, group\n",
    "\n",
    "def get_item(x):\n",
    "    if not x:\n",
    "        return None\n",
    "    return x[\"name\"]\n",
    "\n",
    "df[[\"MinAge\",\"MaxAge\",\"Location\",\"LocationHierarchy\",\"LocationType\",\"Gender\",\"Relationship\",\"Education\",\"Group\"]] = df[\"targeting\"].apply(lambda x : expand(ast.literal_eval(x))).apply(pd.Series)\n",
    "\n",
    "if \"citizenship\" in df:\n",
    "    df[\"Group\"] = df[\"citizenship\"].fillna(\"[]\").apply(lambda x : get_item(ast.literal_eval(x)))\n",
    "    print(\"Updating Group information...\")\n",
    "    \n",
    "if \"access_device\" in df:\n",
    "    df[\"Device\"] = df[\"access_device\"].fillna(\"[]\").apply(lambda x : get_item(ast.literal_eval(x)))\n",
    "    print(\"Adding information regarding devices...\")\n",
    "else:\n",
    "    df[\"Device\"] = None\n",
    "    \n",
    "df[\"AgeBucket\"] = df[[\"MinAge\",\"MaxAge\"]].apply(lambda x: agebuckets(x[\"MinAge\"], x[\"MaxAge\"]), axis=1)\n",
    "\n",
    "# Simple way to collect people's interest. Need a better way in case more than one politician is queries.\n",
    "df[\"Politician\"] = df[\"interests\"].fillna(\"[]\").apply(lambda x : get_item(ast.literal_eval(x)))\n",
    "\n",
    "print(\"Removing redundant cols\")\n",
    "\n",
    "for col in [\"Unnamed: 0\", \"all_fields\", \"targeting\", 'behavior', 'citizenship', \"mock_response\", \"access_device\", \n",
    "            \"ages_ranges\", \"household_composition\", 'interests', 'family_statuses', 'genders', 'geo_locations', 'languages',\n",
    "            'name', 'relationship_statuses', 'response', 'scholarities', 'timestamp', 'publisher_platforms',]:\n",
    "    if col in df.keys():\n",
    "        del df[col]\n",
    "\n",
    "\n",
    "df[\"Politician\"] = df[\"Politician\"].replace(\"Luiz Inácio Lula da Silva\", \"Lula\").replace(\"Marina Silva\",\"Marina\").\\\n",
    "                replace(\"Jair Bolsonaro\", \"Bolsonaro\").replace(\"Ciro Gomes\",\"Ciro\").replace(\"Geraldo Alckmin\", \"Alckmin\").\\\n",
    "                replace(\"Alvaro Dias\", \"Dias\").replace(\"Brazilian Democratic Movement Party\", \"PMDB\").replace(\"Workers' Party (Brazil)\",\"PT\").\\\n",
    "                replace('psdb',\"PSDB\")\n",
    "    \n",
    "print(\"All Done!\")\n",
    "\n",
    "politicians = [\"Lula\",\"Marina\",\"Bolsonaro\",\"Ciro\", \"Alckmin\", \"Dias\"]\n",
    "age = [\"13-18\",\"19-30\",\"31-45\",\"46-65\",\"65+\"]\n",
    "# Brief description: \n",
    "# -----------------\n",
    "# Gender: 0 Both, 1 Man, 2 Woman\n",
    "# Age: 13-Null, 13-18, 19-25, 26-40, 40,65, 65+\n",
    "# LocationType: home_recent, home, recent\n"
   ]
  },
  {
   "cell_type": "code",
   "execution_count": 269,
   "metadata": {
    "ExecuteTime": {
     "end_time": "2018-07-03T14:54:43.708724Z",
     "start_time": "2018-07-03T14:54:43.602846Z"
    }
   },
   "outputs": [],
   "source": [
    "dfpolitician = {}\n",
    "\n",
    "dfcut = df[(~df[\"Politician\"].isnull()) & (df[\"Education\"].isnull()) & (df[\"Device\"].isnull()) & (df[\"Relationship\"].isnull()) & (df[\"AgeBucket\"] == \"all\") & (df[\"Gender\"] == \"both\")].copy()\n",
    "\n",
    "dfpolitician[\"mau\"] = get_slice(dfcut, \"Politician\", politicians, frequency=\"mau\")\n",
    "dfpolitician[\"dau\"] = get_slice(dfcut, \"Politician\", politicians, frequency=\"dau\")\n",
    "\n",
    "calculate_percentages(dfpolitician[\"mau\"], politicians, \"%\")\n",
    "calculate_percentages(dfpolitician[\"dau\"], politicians, \"%\")\n"
   ]
  },
  {
   "cell_type": "code",
   "execution_count": 270,
   "metadata": {
    "ExecuteTime": {
     "end_time": "2018-07-03T14:54:44.841496Z",
     "start_time": "2018-07-03T14:54:44.744472Z"
    },
    "code_folding": []
   },
   "outputs": [],
   "source": [
    "dfage = {}\n",
    "dfcut = df[(df[\"Education\"].isnull()) & (df[\"Device\"].isnull()) & (df[\"Relationship\"].isnull()) & (df[\"AgeBucket\"].apply(lambda x : x in ages)) &\n",
    "    (df[\"Politician\"].isnull()) & (df[\"Gender\"] == \"both\") ].copy()\n",
    "dfage[\"mau\"] = get_slice(dfcut, \"AgeBucket\", ages, frequency=\"mau\") # Adult is missing...need to check why.\n",
    "dfage[\"dau\"] = get_slice(dfcut, \"AgeBucket\", ages, frequency=\"dau\")"
   ]
  },
  {
   "cell_type": "code",
   "execution_count": 271,
   "metadata": {
    "ExecuteTime": {
     "end_time": "2018-07-03T14:54:47.180644Z",
     "start_time": "2018-07-03T14:54:45.873703Z"
    }
   },
   "outputs": [],
   "source": [
    "# Create age pyramid per gender\n",
    "# Colums are names audience_AGE_POLITICIAN_[man|woman]\n",
    "\n",
    "df_age_politician = {}\n",
    "dfcut = {}\n",
    "\n",
    "for version in [\"mau_man\", \"dau_man\", \"dau_woman\", \"mau_woman\"]:\n",
    "    df_age_politician[version] = {}\n",
    "\n",
    "for politician in politicians:\n",
    "    \n",
    "    for gender in [\"man\", \"woman\"]:\n",
    "        dfcut[gender] = {}\n",
    "        \n",
    "        dfcut[gender][politician] = df[(df[\"Politician\"] == politician) & (df[\"AgeBucket\"].apply(lambda x : x in ages)) & (df[\"Gender\"] == gender) & \n",
    "                               (df[\"Education\"].isnull()) & (df[\"Device\"].isnull()) & (df[\"Relationship\"].isnull())]\n",
    "\n",
    "        df_age_politician[\"mau_\" + gender][politician] = get_slice(dfcut[gender][politician], \"AgeBucket\", ages, frequency=\"mau\")\n",
    "        df_age_politician[\"dau_\" + gender][politician] = get_slice(dfcut[gender][politician], \"AgeBucket\", ages, frequency=\"dau\")\n",
    "    \n",
    "    for version in [\"mau_man\", \"dau_man\", \"dau_woman\", \"mau_woman\"]:\n",
    "        for col in df_age_politician[version][politician].keys():\n",
    "            if col.startswith(\"audience\"):\n",
    "                df_age_politician[version][politician][col + \"_\" + politician] = df_age_politician[version][politician][col]\n",
    "                del df_age_politician[version][politician][col]\n",
    "\n",
    "for variation in [\"dau\",\"mau\"]:\n",
    "    for gender in [\"man\", \"woman\"]:\n",
    "        key = \"tmp_\" + variation + \"_\" + gender\n",
    "        df_age_politician[key] = pd.merge(df_age_politician[variation + \"_\" + gender][politicians[0]], df_age_politician[variation + \"_\" + gender][politicians[1]], on=[\"Location\",\"Frequency\"])\n",
    "        for i in range(2, len(politicians)):\n",
    "            df_age_politician[key] = pd.merge(df_age_politician[key], df_age_politician[variation + \"_man\"][politicians[i]], on=[\"Location\",\"Frequency\"])\n",
    "\n",
    "df_age_politician[\"mau\"] = pd.merge(df_age_politician[\"tmp_mau_man\"], df_age_politician[\"tmp_mau_woman\"], on=[\"Location\",\"Frequency\"], suffixes=(\"_man\",\"_woman\"))\n",
    "df_age_politician[\"dau\"] = pd.merge(df_age_politician[\"tmp_dau_man\"], df_age_politician[\"tmp_dau_woman\"], on=[\"Location\",\"Frequency\"], suffixes=(\"_man\",\"_woman\"))\n"
   ]
  },
  {
   "cell_type": "code",
   "execution_count": 307,
   "metadata": {
    "ExecuteTime": {
     "end_time": "2018-07-03T15:20:16.256815Z",
     "start_time": "2018-07-03T15:20:15.297320Z"
    }
   },
   "outputs": [],
   "source": [
    "# Create age pyramid per gender\n",
    "# Colums are names audience_POLITICIAN_AGE_[man|woman]\n",
    "# TODO: names are terrible. Needs improvement...\n",
    "\n",
    "df_politician_gender = {}\n",
    "dfcut = {}\n",
    "\n",
    "for version in [\"mau_man\", \"dau_man\", \"dau_woman\", \"mau_woman\"]:\n",
    "    df_politician_gender[version] = {}\n",
    "\n",
    "for age in ages:\n",
    "    \n",
    "    for gender in [\"man\", \"woman\"]:\n",
    "        dfcut[gender] = {}\n",
    "        \n",
    "        dfcut[gender][age] = df[(~df[\"Politician\"].isnull()) & (df[\"AgeBucket\"] == \"all\") & (df[\"Gender\"] == gender) & \n",
    "                               (df[\"Education\"].isnull()) & (df[\"Device\"].isnull()) & (df[\"Relationship\"].isnull())]\n",
    "\n",
    "        df_politician_gender[\"mau_\" + gender][age] = get_slice(dfcut[gender][age], \"Politician\", politicians, frequency=\"mau\")\n",
    "        df_politician_gender[\"dau_\" + gender][age] = get_slice(dfcut[gender][age], \"Politician\", politicians, frequency=\"dau\")\n",
    "    \n",
    "    for version in [\"mau_man\", \"dau_man\", \"dau_woman\", \"mau_woman\"]:\n",
    "        for col in df_politician_gender[version][age].keys():\n",
    "            if col.startswith(\"audience\"):\n",
    "                df_politician_gender[version][age][col + \"_\" + age] = df_politician_gender[version][age][col]\n",
    "                del df_politician_gender[version][age][col]\n",
    "\n",
    "\n",
    "for variation in [\"dau\",\"mau\"]:\n",
    "    for gender in [\"man\", \"woman\"]:\n",
    "        key = \"tmp_\" + variation + \"_\" + gender\n",
    "        df_politician_gender[key] = pd.merge(df_politician_gender[variation + \"_\" + gender][ages[0]], df_politician_gender[variation + \"_\" + gender][ages[1]], on=[\"Location\",\"Frequency\"])\n",
    "        for i in range(2, len(ages)):\n",
    "            df_politician_gender[key] = pd.merge(df_politician_gender[key], df_politician_gender[variation + \"_man\"][ages[i]], on=[\"Location\",\"Frequency\"])\n",
    "\n",
    "df_politician_gender[\"mau\"] = pd.merge(df_politician_gender[\"tmp_mau_man\"], df_politician_gender[\"tmp_mau_woman\"], on=[\"Location\",\"Frequency\"], suffixes=(\"_man\",\"_woman\"))\n",
    "df_politician_gender[\"dau\"] = pd.merge(df_politician_gender[\"tmp_dau_man\"], df_politician_gender[\"tmp_dau_woman\"], on=[\"Location\",\"Frequency\"], suffixes=(\"_man\",\"_woman\"))\n"
   ]
  },
  {
   "cell_type": "code",
   "execution_count": 273,
   "metadata": {
    "ExecuteTime": {
     "end_time": "2018-07-03T14:54:49.396055Z",
     "start_time": "2018-07-03T14:54:49.359021Z"
    }
   },
   "outputs": [],
   "source": [
    "for dfopt in [dfpolitician, dfage, df_age_politician]:\n",
    "    dfopt[\"dau\"] = dfopt[\"dau\"].drop_duplicates()\n",
    "    dfopt[\"mau\"] = dfopt[\"mau\"].drop_duplicates()"
   ]
  },
  {
   "cell_type": "code",
   "execution_count": 286,
   "metadata": {
    "ExecuteTime": {
     "end_time": "2018-07-03T14:58:41.706237Z",
     "start_time": "2018-07-03T14:58:41.618112Z"
    },
    "code_folding": [
     5,
     9,
     40,
     42
    ]
   },
   "outputs": [
    {
     "name": "stdout",
     "output_type": "stream",
     "text": [
      "%audience_Lula\n",
      "%audience_Marina\n",
      "%audience_Bolsonaro\n",
      "%audience_Ciro\n",
      "%audience_Alckmin\n",
      "%audience_Dias\n",
      "%population_none\n",
      "%population_Lula\n",
      "%population_Marina\n",
      "%population_Bolsonaro\n",
      "%population_Ciro\n",
      "%population_Alckmin\n",
      "%population_Dias\n"
     ]
    }
   ],
   "source": [
    "merged = {}\n",
    "\n",
    "merged[\"mau\"] = pd.merge(dfpolitician[\"mau\"], dfage[\"mau\"]).merge(df_age_politician[\"mau\"])\n",
    "merged[\"dau\"] = pd.merge(dfpolitician[\"dau\"], dfage[\"dau\"]).merge(df_age_politician[\"dau\"])\n",
    "\n",
    "concated = pd.concat([merged[\"mau\"], merged[\"dau\"]])\n",
    "\n",
    "allpopulation = df[(df[\"Politician\"].isnull()) & (df[\"Education\"].isnull()) & (df[\"Device\"].isnull()) & (df[\"Relationship\"].isnull()) & (df[\"AgeBucket\"] == \"all\") & (df[\"Gender\"] == \"both\")].copy()\n",
    "\n",
    "dffinal = pd.merge(allpopulation[[\"dau_audience\",\"mau_audience\",\"Location\",\"LocationHierarchy\"]], concated)\n",
    "dffinal[\"TotalPopulation\"] = dffinal[\"mau_audience\"].where(dffinal[\"Frequency\"]==\"Monthly\", dffinal[\"dau_audience\"]) \n",
    "\n",
    "dffinal[\"%population_none\"] = 100.\n",
    "for politician in politicians:\n",
    "    dffinal[\"%population_\" + politician] = 100.0 * dffinal[\"audience_\" + politician] / dffinal[\"TotalPopulation\"]\n",
    "    dffinal[\"%population_none\"] = dffinal[\"%population_none\"] - dffinal[\"%population_\" + politician] \n",
    "\n",
    "del dffinal[\"mau_audience\"]\n",
    "del dffinal[\"dau_audience\"]\n",
    "\n",
    "for col in dffinal.keys():\n",
    "    if col.startswith(\"%\"):\n",
    "        print(col)\n",
    "        dffinal[col] = dffinal[col].round(2)\n",
    "\n",
    "dffinal.to_csv(\"june20.csv\", index=False)"
   ]
  },
  {
   "cell_type": "code",
   "execution_count": null,
   "metadata": {},
   "outputs": [],
   "source": []
  }
 ],
 "metadata": {
  "kernelspec": {
   "display_name": "Python 3",
   "language": "python",
   "name": "python3"
  },
  "language_info": {
   "codemirror_mode": {
    "name": "ipython",
    "version": 3
   },
   "file_extension": ".py",
   "mimetype": "text/x-python",
   "name": "python",
   "nbconvert_exporter": "python",
   "pygments_lexer": "ipython3",
   "version": "3.6.5"
  },
  "varInspector": {
   "cols": {
    "lenName": 16,
    "lenType": 16,
    "lenVar": 40
   },
   "kernels_config": {
    "python": {
     "delete_cmd_postfix": "",
     "delete_cmd_prefix": "del ",
     "library": "var_list.py",
     "varRefreshCmd": "print(var_dic_list())"
    },
    "r": {
     "delete_cmd_postfix": ") ",
     "delete_cmd_prefix": "rm(",
     "library": "var_list.r",
     "varRefreshCmd": "cat(var_dic_list()) "
    }
   },
   "types_to_exclude": [
    "module",
    "function",
    "builtin_function_or_method",
    "instance",
    "_Feature"
   ],
   "window_display": false
  }
 },
 "nbformat": 4,
 "nbformat_minor": 2
}
